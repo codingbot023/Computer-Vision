{
 "cells": [
  {
   "cell_type": "code",
   "execution_count": 1,
   "id": "2f059dec",
   "metadata": {},
   "outputs": [],
   "source": [
    "# pip install opencv-python"
   ]
  },
  {
   "cell_type": "code",
   "execution_count": 2,
   "id": "cbf95a93",
   "metadata": {},
   "outputs": [],
   "source": [
    "import cv2"
   ]
  },
  {
   "cell_type": "markdown",
   "id": "d18d0015",
   "metadata": {},
   "source": [
    "### Reading an image"
   ]
  },
  {
   "cell_type": "code",
   "execution_count": 3,
   "id": "c00bb5bf",
   "metadata": {},
   "outputs": [
    {
     "data": {
      "text/plain": [
       "array([[[ 21,  20,  29],\n",
       "        [ 24,  23,  32],\n",
       "        [ 25,  24,  33],\n",
       "        ...,\n",
       "        [  7,  44, 100],\n",
       "        [  4,  41,  97],\n",
       "        [  0,  34,  90]],\n",
       "\n",
       "       [[ 19,  18,  27],\n",
       "        [ 20,  19,  28],\n",
       "        [ 20,  19,  28],\n",
       "        ...,\n",
       "        [ 17,  52, 108],\n",
       "        [ 19,  54, 110],\n",
       "        [ 15,  50, 106]],\n",
       "\n",
       "       [[ 26,  25,  34],\n",
       "        [ 25,  24,  33],\n",
       "        [ 23,  22,  31],\n",
       "        ...,\n",
       "        [  0,  32,  88],\n",
       "        [ 10,  43,  99],\n",
       "        [ 15,  48, 104]],\n",
       "\n",
       "       ...,\n",
       "\n",
       "       [[ 31,  34,  38],\n",
       "        [ 34,  37,  41],\n",
       "        [ 36,  40,  45],\n",
       "        ...,\n",
       "        [ 52,  52,  52],\n",
       "        [ 53,  53,  53],\n",
       "        [ 52,  52,  52]],\n",
       "\n",
       "       [[ 40,  44,  45],\n",
       "        [ 42,  45,  49],\n",
       "        [ 43,  47,  52],\n",
       "        ...,\n",
       "        [ 54,  54,  54],\n",
       "        [ 64,  64,  64],\n",
       "        [ 66,  66,  66]],\n",
       "\n",
       "       [[ 38,  42,  43],\n",
       "        [ 41,  45,  46],\n",
       "        [ 43,  47,  52],\n",
       "        ...,\n",
       "        [ 65,  65,  65],\n",
       "        [ 77,  77,  77],\n",
       "        [ 78,  78,  78]]], dtype=uint8)"
      ]
     },
     "execution_count": 3,
     "metadata": {},
     "output_type": "execute_result"
    }
   ],
   "source": [
    "img =cv2.imread('img1.jpeg')\n",
    "img"
   ]
  },
  {
   "cell_type": "markdown",
   "id": "9efdbae6",
   "metadata": {},
   "source": [
    "### Displaying image"
   ]
  },
  {
   "cell_type": "code",
   "execution_count": 4,
   "id": "1393b33c",
   "metadata": {},
   "outputs": [],
   "source": [
    "cv2.imshow('Image',img)#image is the tithle of new window\n",
    "cv2.waitKey(0)#if waitkey set as 0 then we manually press any key to close the window or we can set the timning to close the window in milliseconds\n",
    "cv2.destroyAllWindows()#to close all windows"
   ]
  },
  {
   "cell_type": "code",
   "execution_count": 5,
   "id": "63c5c156",
   "metadata": {},
   "outputs": [
    {
     "data": {
      "text/plain": [
       "(148, 148, 3)"
      ]
     },
     "execution_count": 5,
     "metadata": {},
     "output_type": "execute_result"
    }
   ],
   "source": [
    "img.shape"
   ]
  },
  {
   "cell_type": "markdown",
   "id": "43c70290",
   "metadata": {},
   "source": [
    "### Resize image"
   ]
  },
  {
   "cell_type": "code",
   "execution_count": 6,
   "id": "8657ac98",
   "metadata": {},
   "outputs": [],
   "source": [
    "resized_image = cv2.resize(img, (200, 200))\n",
    "cv2.imshow('resized_image',resized_image)\n",
    "cv2.imshow('Image',img)\n",
    "cv2.waitKey(0)\n",
    "cv2.destroyAllWindows()"
   ]
  },
  {
   "cell_type": "code",
   "execution_count": 7,
   "id": "7e8af36b",
   "metadata": {},
   "outputs": [
    {
     "data": {
      "text/plain": [
       "(200, 200, 3)"
      ]
     },
     "execution_count": 7,
     "metadata": {},
     "output_type": "execute_result"
    }
   ],
   "source": [
    "resized_image.shape"
   ]
  },
  {
   "cell_type": "code",
   "execution_count": 8,
   "id": "c7540256",
   "metadata": {},
   "outputs": [
    {
     "data": {
      "text/plain": [
       "True"
      ]
     },
     "execution_count": 8,
     "metadata": {},
     "output_type": "execute_result"
    }
   ],
   "source": [
    "cv2.imwrite('resized_image.png',resized_image)"
   ]
  },
  {
   "cell_type": "markdown",
   "id": "dbe2955c",
   "metadata": {},
   "source": [
    "### split and merging channels"
   ]
  },
  {
   "cell_type": "code",
   "execution_count": 9,
   "id": "f5bf5ea3",
   "metadata": {},
   "outputs": [],
   "source": [
    "rgb_image= cv2.imread('img1.jpeg')\n",
    "rgb_image=cv2.resize(rgb_image,(300,200))\n",
    "(b,g,r)=cv2.split(rgb_image)\n",
    "cv2.imshow('Original_image',rgb_image)\n",
    "cv2.imshow('Red channel',r)\n",
    "cv2.imshow('Green channel',g)\n",
    "cv2.imshow('Blue channel',b)\n",
    "cv2.waitKey(0)\n",
    "cv2.destroyAllWindows()"
   ]
  },
  {
   "cell_type": "code",
   "execution_count": 10,
   "id": "297f9cbc",
   "metadata": {},
   "outputs": [],
   "source": [
    "merged = cv2.merge([b,g,r])\n",
    "cv2.imshow('Merged image',merged)\n",
    "cv2.waitKey(0)\n",
    "cv2.destroyAllWindows()"
   ]
  },
  {
   "cell_type": "markdown",
   "id": "5f1b668e",
   "metadata": {},
   "source": [
    "# Example 2"
   ]
  },
  {
   "cell_type": "code",
   "execution_count": 11,
   "id": "47d5296a",
   "metadata": {
    "scrolled": true
   },
   "outputs": [
    {
     "data": {
      "text/plain": [
       "array([[[55, 26, 19],\n",
       "        [55, 26, 19],\n",
       "        [55, 26, 19],\n",
       "        ...,\n",
       "        [51, 22, 17],\n",
       "        [51, 22, 17],\n",
       "        [51, 22, 17]],\n",
       "\n",
       "       [[55, 26, 19],\n",
       "        [55, 26, 19],\n",
       "        [55, 26, 19],\n",
       "        ...,\n",
       "        [52, 23, 18],\n",
       "        [52, 23, 18],\n",
       "        [52, 23, 18]],\n",
       "\n",
       "       [[55, 26, 19],\n",
       "        [55, 26, 19],\n",
       "        [55, 26, 19],\n",
       "        ...,\n",
       "        [52, 23, 18],\n",
       "        [52, 23, 18],\n",
       "        [52, 23, 18]],\n",
       "\n",
       "       ...,\n",
       "\n",
       "       [[88, 70, 39],\n",
       "        [88, 70, 39],\n",
       "        [88, 70, 39],\n",
       "        ...,\n",
       "        [54, 27, 17],\n",
       "        [54, 27, 17],\n",
       "        [54, 27, 17]],\n",
       "\n",
       "       [[88, 70, 39],\n",
       "        [88, 70, 39],\n",
       "        [88, 70, 39],\n",
       "        ...,\n",
       "        [54, 27, 17],\n",
       "        [54, 27, 17],\n",
       "        [54, 27, 17]],\n",
       "\n",
       "       [[88, 70, 39],\n",
       "        [88, 70, 39],\n",
       "        [88, 70, 39],\n",
       "        ...,\n",
       "        [54, 27, 17],\n",
       "        [54, 27, 17],\n",
       "        [54, 27, 17]]], dtype=uint8)"
      ]
     },
     "execution_count": 11,
     "metadata": {},
     "output_type": "execute_result"
    }
   ],
   "source": [
    "img =cv2.imread('images.jpeg')\n",
    "img"
   ]
  },
  {
   "cell_type": "code",
   "execution_count": 12,
   "id": "2f5e9792",
   "metadata": {},
   "outputs": [],
   "source": [
    "cv2.imshow(\"Flower\",img)\n",
    "cv2.waitKey(1000)\n",
    "cv2.destroyAllWindows()"
   ]
  },
  {
   "cell_type": "code",
   "execution_count": 13,
   "id": "5f77b788",
   "metadata": {},
   "outputs": [
    {
     "data": {
      "text/plain": [
       "(181, 278, 3)"
      ]
     },
     "execution_count": 13,
     "metadata": {},
     "output_type": "execute_result"
    }
   ],
   "source": [
    "img.shape"
   ]
  },
  {
   "cell_type": "code",
   "execution_count": 14,
   "id": "251dcd94",
   "metadata": {},
   "outputs": [],
   "source": [
    "resized_image =cv2.resize(img,(300,300))\n",
    "cv2.imshow('Resized_flower',resized_image)\n",
    "cv2.imshow(\"Flower\",img)\n",
    "cv2.waitKey(2000)\n",
    "cv2.destroyAllWindows()"
   ]
  },
  {
   "cell_type": "code",
   "execution_count": 15,
   "id": "64793404",
   "metadata": {},
   "outputs": [
    {
     "data": {
      "text/plain": [
       "(300, 300, 3)"
      ]
     },
     "execution_count": 15,
     "metadata": {},
     "output_type": "execute_result"
    }
   ],
   "source": [
    "resized_image.shape"
   ]
  },
  {
   "cell_type": "code",
   "execution_count": 16,
   "id": "0698354f",
   "metadata": {},
   "outputs": [
    {
     "data": {
      "text/plain": [
       "True"
      ]
     },
     "execution_count": 16,
     "metadata": {},
     "output_type": "execute_result"
    }
   ],
   "source": [
    "cv2.imwrite('Resized_image.png',resized_image)"
   ]
  },
  {
   "cell_type": "code",
   "execution_count": 17,
   "id": "c6eba177",
   "metadata": {},
   "outputs": [],
   "source": [
    "rgb_image= cv2.imread('images.jpeg')\n",
    "rgb_image=cv2.resize(rgb_image,(300,200))\n",
    "(b,g,r)=cv2.split(rgb_image)\n",
    "cv2.imshow('Original_image',rgb_image)\n",
    "cv2.imshow('Red channel',r)\n",
    "cv2.imshow('Green channel',g)\n",
    "cv2.imshow('Blue channel',b)\n",
    "cv2.waitKey(0)\n",
    "cv2.destroyAllWindows()"
   ]
  },
  {
   "cell_type": "code",
   "execution_count": 18,
   "id": "66ed98aa",
   "metadata": {},
   "outputs": [],
   "source": [
    "merged = cv2.merge([b,g,r])\n",
    "cv2.imshow('Merged image',merged)\n",
    "cv2.waitKey(0)\n",
    "cv2.destroyAllWindows()"
   ]
  },
  {
   "cell_type": "markdown",
   "id": "0fb3912d",
   "metadata": {},
   "source": [
    "### Channel conversion"
   ]
  },
  {
   "cell_type": "code",
   "execution_count": 19,
   "id": "0ec27e16",
   "metadata": {},
   "outputs": [],
   "source": [
    "bgr_image=cv2.imread('images.jpeg')"
   ]
  },
  {
   "cell_type": "markdown",
   "id": "74b13e49",
   "metadata": {},
   "source": [
    "### BGR to Gray conversion"
   ]
  },
  {
   "cell_type": "code",
   "execution_count": 20,
   "id": "da552b62",
   "metadata": {},
   "outputs": [],
   "source": [
    "gray_image =cv2.cvtColor(bgr_image,cv2.COLOR_BGR2GRAY)\n",
    "cv2.imshow(\"Color image\",bgr_image)\n",
    "cv2.imshow(\"Gray image\",gray_image)\n",
    "cv2.waitKey(3000)\n",
    "cv2.destroyAllWindows()"
   ]
  },
  {
   "cell_type": "markdown",
   "id": "2899cdbf",
   "metadata": {},
   "source": [
    "### BGR to HSV"
   ]
  },
  {
   "cell_type": "code",
   "execution_count": 21,
   "id": "e8d9d9c2",
   "metadata": {},
   "outputs": [],
   "source": [
    "bgr_to_hsv=cv2.cvtColor(bgr_image,cv2.COLOR_BGR2HSV)\n",
    "hsv_to_bgr=cv2.cvtColor(bgr_to_hsv,cv2.COLOR_HSV2BGR)\n",
    "cv2.imshow(\"Color image\",bgr_image)\n",
    "cv2.imshow(\"Color to HSV image\",bgr_to_hsv)\n",
    "cv2.imshow(\"HSV to Color\",hsv_to_bgr)\n",
    "cv2.waitKey(4000)\n",
    "cv2.destroyAllWindows()"
   ]
  },
  {
   "cell_type": "markdown",
   "id": "5dad91ef",
   "metadata": {},
   "source": [
    "### BGR to Lab"
   ]
  },
  {
   "cell_type": "code",
   "execution_count": 22,
   "id": "04f84e35",
   "metadata": {},
   "outputs": [],
   "source": [
    "bgr_to_lab=cv2.cvtColor(bgr_image,cv2.COLOR_BGR2LAB)\n",
    "lab_to_bgr=cv2.cvtColor(bgr_to_lab,cv2.COLOR_LAB2BGR)\n",
    "cv2.imshow(\"Color image\",bgr_image)\n",
    "cv2.imshow(\"Color to lab image\",bgr_to_lab)\n",
    "cv2.imshow(\"lab to Color\",lab_to_bgr)\n",
    "cv2.waitKey(0)\n",
    "cv2.destroyAllWindows()"
   ]
  },
  {
   "cell_type": "markdown",
   "id": "3db944cf",
   "metadata": {},
   "source": [
    "### Face detection"
   ]
  },
  {
   "cell_type": "code",
   "execution_count": 23,
   "id": "7f44f417",
   "metadata": {},
   "outputs": [],
   "source": [
    "import cv2"
   ]
  },
  {
   "cell_type": "code",
   "execution_count": 24,
   "id": "821dd419",
   "metadata": {},
   "outputs": [],
   "source": [
    "img= cv2.imread('face.jpeg')"
   ]
  },
  {
   "cell_type": "code",
   "execution_count": 25,
   "id": "f5b26ed5",
   "metadata": {},
   "outputs": [],
   "source": [
    "cv2.imshow(\"face.jpeg\",img)\n",
    "cv2.waitKey(0)\n",
    "cv2.destroyAllWindows()"
   ]
  },
  {
   "cell_type": "code",
   "execution_count": 26,
   "id": "2ded24c7",
   "metadata": {},
   "outputs": [],
   "source": [
    "haar_cascade=cv2.CascadeClassifier('haarcascade_frontalface_alt.xml')\n",
    "faces = haar_cascade.detectMultiScale(img,scaleFactor=1.1,minNeighbors=9)\n",
    "for(x,y,w,h) in faces:\n",
    "    cv2.rectangle(img,(x,y),(x+w,y+h),(200,121,205),2) #(x+w,y+h)#coorinates #(200,121,205)color of rectangle #2 thickness of rectangle sides\n",
    "\n",
    "cv2.imshow(\"detected_face\",img)\n",
    "cv2.waitKey(0)\n",
    "cv2.destroyAllWindows()"
   ]
  },
  {
   "cell_type": "markdown",
   "id": "56fbd428",
   "metadata": {},
   "source": [
    "### Eye detection"
   ]
  },
  {
   "cell_type": "code",
   "execution_count": 32,
   "id": "9b0facd0",
   "metadata": {},
   "outputs": [],
   "source": [
    "img =cv2.imread('face.jpeg')\n",
    "img =cv2.resize(img,(300,300))"
   ]
  },
  {
   "cell_type": "code",
   "execution_count": 33,
   "id": "b40eb8ba",
   "metadata": {},
   "outputs": [],
   "source": [
    "\n",
    "eyes_cascade=cv2.CascadeClassifier('haarcascade_eye.xml')\n",
    "\n",
    "for (x,y,w,h) in faces:\n",
    "    #crop part of image containing face\n",
    "    sub_image =img[y:y+h,x:x+w]\n",
    "    eyes =eyes_cascade.detectMultiScale(sub_image, scaleFactor=1.1, minNeighbors=9)\n",
    "    \n",
    "    for (x,y,w,h) in eyes:\n",
    "        cv2.rectangle(sub_image,(x,y),(x+w,y+h),(255,0,0),2)\n",
    "cv2.imshow(\"Detected eyes\",img)\n",
    "cv2.waitKey(0)\n",
    "cv2.destroyAllWindows()\n"
   ]
  },
  {
   "cell_type": "code",
   "execution_count": 29,
   "id": "e86695ed",
   "metadata": {},
   "outputs": [],
   "source": [
    "img =cv2.imread('face.jpeg')\n",
    "img =cv2.resize(img,(300,300))"
   ]
  },
  {
   "cell_type": "code",
   "execution_count": 30,
   "id": "0af7f67b",
   "metadata": {},
   "outputs": [],
   "source": [
    "\n",
    "\n",
    "smile_cascade =cv2.CascadeClassifier('haarcascade_smile.xml')\n",
    "for (x,y,w,h) in faces:\n",
    "    sub_image =img[y:y+h,x:x+w]\n",
    "    smile =smile_cascade.detectMultiScale(sub_image, scaleFactor=1.1, minNeighbors=9)\n",
    "    \n",
    "    for (x,y,w,h) in smile:\n",
    "        cv2.rectangle(sub_image,(x,y),(x+w,y+h),(255,0,0),2)\n",
    "cv2.imshow(\"Detected Smile\",img)\n",
    "cv2.waitKey(0)\n",
    "cv2.destroyAllWindows()"
   ]
  },
  {
   "cell_type": "code",
   "execution_count": null,
   "id": "fa22e8f9",
   "metadata": {},
   "outputs": [],
   "source": []
  }
 ],
 "metadata": {
  "kernelspec": {
   "display_name": "Python 3 (ipykernel)",
   "language": "python",
   "name": "python3"
  },
  "language_info": {
   "codemirror_mode": {
    "name": "ipython",
    "version": 3
   },
   "file_extension": ".py",
   "mimetype": "text/x-python",
   "name": "python",
   "nbconvert_exporter": "python",
   "pygments_lexer": "ipython3",
   "version": "3.9.7"
  }
 },
 "nbformat": 4,
 "nbformat_minor": 5
}
